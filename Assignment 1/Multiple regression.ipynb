{
 "cells": [
  {
   "cell_type": "code",
   "execution_count": 1,
   "metadata": {
    "collapsed": false
   },
   "outputs": [],
   "source": [
    "import numpy as np\n",
    "import pandas as pd\n",
    "import matplotlib.pyplot as plt\n",
    "from scipy.optimize import curve_fit\n",
    "from scipy.optimize import minimize\n",
    "%matplotlib inline \n",
    "\n",
    "# Open up the csv file in to a Python object\n",
    "data = pd.read_csv('train.csv',header = -1)\n",
    "X_test_raw = pd.read_csv('test.csv',header = -1)\n",
    "\n",
    "#data.describe()\n"
   ]
  },
  {
   "cell_type": "code",
   "execution_count": 2,
   "metadata": {
    "collapsed": false
   },
   "outputs": [
    {
     "name": "stdout",
     "output_type": "stream",
     "text": [
      "(706, 36)\n"
     ]
    }
   ],
   "source": [
    "X_raw = data.iloc[:,0:18]\n",
    "Y = data.iloc[:,18]\n",
    "\n",
    "#prepare the data, add new features\n",
    "temp = [X_raw, X_test_raw]\n",
    "\n",
    "X_new = pd.concat(temp)\n",
    "\n",
    "#attach the square of the features\n",
    "#not really sure about this one\n",
    "for i in range(0,18):\n",
    "    X_new[18+i] = X_new[i]**2\n",
    "\n",
    "\n",
    "X = X_new.head(X_raw.shape[0])\n",
    "X_test = X_new.tail(X_test_raw.shape[0])\n",
    "\n",
    "print(X_test.shape)"
   ]
  },
  {
   "cell_type": "code",
   "execution_count": 3,
   "metadata": {
    "collapsed": false
   },
   "outputs": [],
   "source": [
    "#function to normalize the normalize the features\n",
    "def feature_normalize(X):\n",
    "    '''\n",
    "    Returns a normalized version of X where\n",
    "    the mean value of each feature is 0 and the standard deviation\n",
    "    is 1.\n",
    "    '''\n",
    "    mean_r = []\n",
    "    std_r = []\n",
    "\n",
    "    X_norm = X\n",
    "\n",
    "    n_c = X.shape[1]\n",
    "    for i in range(n_c):\n",
    "        m = np.mean(X.iloc[:, i])\n",
    "        s = np.std(X.iloc[:, i])\n",
    "        mean_r.append(m)\n",
    "        std_r.append(s)\n",
    "        X_norm.iloc[:, i] = (X_norm.iloc[:, i] - m) / s\n",
    "\n",
    "    return X_norm, mean_r, std_r;\n",
    "\n",
    "\n",
    "# feature_normalize(X);\n",
    "# X.describe()\n",
    "\n",
    "#define train and cvd data sets\n",
    "X_train = X.iloc[0:3000, :]\n",
    "Y_train = Y.iloc[0:3000]\n",
    "\n",
    "X_cvd = X.iloc[3000:, :]\n",
    "Y_cvd = Y.iloc[3000:]\n",
    "\n",
    "# Y_cvd.describe()\n",
    "\n",
    "#do some plotting\n",
    "# t = X.iloc[:,9]**5\n",
    "\n",
    "# plt.scatter(t,Y)\n",
    "# plt.show()"
   ]
  },
  {
   "cell_type": "code",
   "execution_count": null,
   "metadata": {
    "collapsed": false
   },
   "outputs": [],
   "source": []
  },
  {
   "cell_type": "code",
   "execution_count": 4,
   "metadata": {
    "collapsed": false
   },
   "outputs": [],
   "source": [
    "# from sklearn import linear_model\n",
    "\n",
    "\n",
    "# model = linear_model.LinearRegression()\n",
    "\n",
    "\n",
    "# # Train the model using the training sets\n",
    "# model.fit(X, Y)\n",
    "\n",
    "# # The coefficients\n",
    "# print('Coefficients: \\n', model.coef_)\n",
    "# # The mean square error\n",
    "# print(\"Residual sum of squares: %.2f\"\n",
    "#       % np.mean((model.predict(X_cvd) - Y_cvd) ** 2))\n",
    "\n",
    "# # Explained variance score: 1 is perfect prediction\n",
    "# print('Variance score: %.2f' % model.score(X_cvd,Y_cvd))\n",
    "\n",
    "# # Plot outputs\n",
    "# plt.scatter(X_cvd.iloc[:,0], Y_cvd,  color='black')\n",
    "# plt.plot(X_cvd.iloc[:,0], model.predict(X_cvd), color='blue',\n",
    "#          linewidth=3)\n",
    "\n",
    "# plt.xticks(())\n",
    "# plt.yticks(())\n",
    "\n",
    "# # plt.show()\n",
    "\n",
    "\n"
   ]
  },
  {
   "cell_type": "code",
   "execution_count": 5,
   "metadata": {
    "collapsed": false
   },
   "outputs": [
    {
     "ename": "NameError",
     "evalue": "name 'model' is not defined",
     "output_type": "error",
     "traceback": [
      "\u001b[1;31m---------------------------------------------------------------------------\u001b[0m",
      "\u001b[1;31mNameError\u001b[0m                                 Traceback (most recent call last)",
      "\u001b[1;32m<ipython-input-5-e63709a3adc7>\u001b[0m in \u001b[0;36m<module>\u001b[1;34m()\u001b[0m\n\u001b[0;32m      1\u001b[0m \u001b[1;33m\u001b[0m\u001b[0m\n\u001b[1;32m----> 2\u001b[1;33m \u001b[0mresult\u001b[0m \u001b[1;33m=\u001b[0m \u001b[0mmodel\u001b[0m\u001b[1;33m.\u001b[0m\u001b[0mpredict\u001b[0m\u001b[1;33m(\u001b[0m\u001b[0mX_test\u001b[0m\u001b[1;33m)\u001b[0m\u001b[1;33m\u001b[0m\u001b[0m\n\u001b[0m\u001b[0;32m      3\u001b[0m \u001b[1;31m# print(type(result))\u001b[0m\u001b[1;33m\u001b[0m\u001b[1;33m\u001b[0m\u001b[0m\n\u001b[0;32m      4\u001b[0m \u001b[1;33m\u001b[0m\u001b[0m\n\u001b[0;32m      5\u001b[0m \u001b[0mnp\u001b[0m\u001b[1;33m.\u001b[0m\u001b[0msavetxt\u001b[0m\u001b[1;33m(\u001b[0m\u001b[1;34m'sub.csv'\u001b[0m\u001b[1;33m,\u001b[0m \u001b[0mresult\u001b[0m\u001b[1;33m,\u001b[0m\u001b[0mnewline\u001b[0m\u001b[1;33m=\u001b[0m\u001b[1;34m','\u001b[0m\u001b[1;33m)\u001b[0m\u001b[1;33m\u001b[0m\u001b[0m\n",
      "\u001b[1;31mNameError\u001b[0m: name 'model' is not defined"
     ]
    }
   ],
   "source": [
    "  \n",
    "result = model.predict(X_test)\n",
    "# print(type(result))\n",
    "\n",
    "np.savetxt('sub.csv', result,newline=',')\n",
    "\n",
    "\n",
    "    "
   ]
  },
  {
   "cell_type": "code",
   "execution_count": null,
   "metadata": {
    "collapsed": false
   },
   "outputs": [],
   "source": [
    "ridgeCV = linear_model.RidgeCV(alphas=[0.00000000000001,0.0000001,0.0000000000001],cv = 10,normalize=True)\n",
    "print(ridgeCV.fit(X,Y)) \n",
    "print(ridgeCV.alpha_)\n"
   ]
  },
  {
   "cell_type": "code",
   "execution_count": null,
   "metadata": {
    "collapsed": false
   },
   "outputs": [],
   "source": [
    "result = ridgeCV.predict(X_test)\n",
    "np.savetxt('sub.csv', result,newline=',')"
   ]
  },
  {
   "cell_type": "code",
   "execution_count": null,
   "metadata": {
    "collapsed": true
   },
   "outputs": [],
   "source": [
    "#define the hypothesis function\n",
    "def h(theta,x):\n",
    "    #theta is a column vector, x is a real no\n",
    "    result = 0\n",
    "    for i in range(theta.size):\n",
    "            result += theta[i]*(x**i)\n",
    "    return result        "
   ]
  }
 ],
 "metadata": {
  "kernelspec": {
   "display_name": "Python 2",
   "language": "python",
   "name": "python2"
  },
  "language_info": {
   "codemirror_mode": {
    "name": "ipython",
    "version": 2
   },
   "file_extension": ".py",
   "mimetype": "text/x-python",
   "name": "python",
   "nbconvert_exporter": "python",
   "pygments_lexer": "ipython2",
   "version": "2.7.11"
  }
 },
 "nbformat": 4,
 "nbformat_minor": 0
}
