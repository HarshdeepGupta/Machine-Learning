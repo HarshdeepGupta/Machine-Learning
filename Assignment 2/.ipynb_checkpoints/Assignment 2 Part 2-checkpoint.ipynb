{
 "cells": [
  {
   "cell_type": "code",
   "execution_count": 3,
   "metadata": {
    "collapsed": false
   },
   "outputs": [],
   "source": [
    "import csv as csv \n",
    "import numpy as np\n",
    "import pandas as pd\n",
    "import matplotlib.pyplot as plt\n",
    "from sklearn import preprocessing\n",
    "from sklearn import svm\n",
    "from sklearn import cross_validation\n",
    "from sklearn.decomposition import RandomizedPCA\n",
    "\n",
    "\n",
    "# Open up the csv file in to a Python object\n",
    "data = pd.read_csv('train.csv',header = -1)\n",
    "test = pd.read_csv('test.csv',header = -1)\n"
   ]
  },
  {
   "cell_type": "code",
   "execution_count": 4,
   "metadata": {
    "collapsed": false
   },
   "outputs": [
    {
     "name": "stdout",
     "output_type": "stream",
     "text": [
      "250000\n"
     ]
    }
   ],
   "source": [
    "X_train_raw = data.iloc[:,0:25]\n",
    "Y_train = data.iloc[:,25]\n",
    "X_test_raw = test\n",
    "\n",
    "#prepare the data, add new features\n",
    "temp = [X_train_raw, X_test_raw]\n",
    "\n",
    "X_new = pd.concat(temp)\n",
    "\n",
    "#not really sure about this one\n",
    "# for i in range(0,25):\n",
    "#     X_new[25+i] = X_new[i]**3\n",
    "    \n",
    "X_train = X_new.head(X_train_raw.shape[0])\n",
    "X_test = X_new.tail(X_test_raw.shape[0])\n",
    "#the above data is not normalized, but has all the features\n",
    "\n",
    "#reduce the dimensionality of data\n",
    "# pca = RandomizedPCA(n_components=20)\n",
    "# X_train = pca.fit_transform(X_train)\n",
    "# X_test = pca.transform(X_test)\n",
    "\n",
    "\n",
    "#normalize the data\n",
    "scaler = preprocessing.StandardScaler()\n",
    "X_train = scaler.fit_transform(X_train)\n",
    "X_test = scaler.transform(X_test)\n",
    "\n",
    "print(X_train.size)"
   ]
  },
  {
   "cell_type": "code",
   "execution_count": 21,
   "metadata": {
    "collapsed": false
   },
   "outputs": [],
   "source": [
    "\n",
    "# plt.imshow(X_train_raw.iloc[10,:].reshape(5,5),plt.cm.gray_r,interpolation=\"nearest\")\n",
    "# plt.show()\n",
    "\n",
    "# from scipy import linalg\n",
    "# a,b,c = linalg.svd(X_train)\n",
    "# print(b)"
   ]
  },
  {
   "cell_type": "code",
   "execution_count": null,
   "metadata": {
    "collapsed": false
   },
   "outputs": [],
   "source": [
    "#the data has now been normalized and nicely floating\n",
    "from sklearn.cross_validation import StratifiedKFold\n",
    "C = [0.3,1,3,5,10]\n",
    "\n",
    "scores = np.zeros([5,1])\n",
    "for i in range(0,5):\n",
    "\n",
    "    clf = svm.SVC(C = C[i], gamma=0.07)\n",
    "    score = cross_validation.cross_val_score(clf, X_train,Y_train, cv=5,n_jobs=4).mean()\n",
    "    scores[i,0] = score\n",
    "print(scores)\n",
    "print(np.amax(scores)) \n",
    "\n",
    "\n",
    "# result = clf.predict(X_test)\n",
    "# np.savetxt('sub.csv', result,newline=',')\n"
   ]
  },
  {
   "cell_type": "code",
   "execution_count": 36,
   "metadata": {
    "collapsed": false
   },
   "outputs": [
    {
     "name": "stdout",
     "output_type": "stream",
     "text": [
      "0.963999231037\n"
     ]
    }
   ],
   "source": [
    "\n",
    "clf = svm.SVC(C = 100,gamma = 0.07)\n",
    "clf.fit(X_train,Y_train)\n",
    "result = clf.predict(X_test)\n",
    "np.savetxt('sub.csv', result,newline=',')\n",
    "score = cross_validation.cross_val_score(clf, X_train,Y_train, cv=4, n_jobs=4).mean()\n",
    "print(score)"
   ]
  },
  {
   "cell_type": "code",
   "execution_count": 28,
   "metadata": {
    "collapsed": false
   },
   "outputs": [
    {
     "data": {
      "text/plain": [
       "0.96399923103746232"
      ]
     },
     "execution_count": 28,
     "metadata": {},
     "output_type": "execute_result"
    }
   ],
   "source": []
  },
  {
   "cell_type": "markdown",
   "metadata": {},
   "source": [
    "# Results\n",
    "optimal value of gamma is between 0.03 and 0.1\n",
    "optimal value of gamma is between 0.07\n",
    "\n"
   ]
  }
 ],
 "metadata": {
  "kernelspec": {
   "display_name": "Python 2",
   "language": "python",
   "name": "python2"
  },
  "language_info": {
   "codemirror_mode": {
    "name": "ipython",
    "version": 2
   },
   "file_extension": ".py",
   "mimetype": "text/x-python",
   "name": "python",
   "nbconvert_exporter": "python",
   "pygments_lexer": "ipython2",
   "version": "2.7.11"
  }
 },
 "nbformat": 4,
 "nbformat_minor": 0
}
