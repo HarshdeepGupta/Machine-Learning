{
 "cells": [
  {
   "cell_type": "code",
   "execution_count": 2,
   "metadata": {
    "collapsed": true
   },
   "outputs": [],
   "source": [
    "# Do the imports, so that we write less code\n",
    "import scipy.io\n",
    "import numpy as np\n",
    "import matplotlib.pyplot as plt\n",
    "import matplotlib.image as mpimg\n",
    "from time import time\n",
    "from sklearn import metrics\n",
    "from sklearn.cluster import KMeans\n",
    "from sklearn.decomposition import PCA\n",
    "from sklearn.preprocessing import scale\n",
    "from PIL import Image\n",
    "%matplotlib inline\n",
    "\n"
   ]
  },
  {
   "cell_type": "code",
   "execution_count": 3,
   "metadata": {
    "collapsed": false
   },
   "outputs": [
    {
     "name": "stderr",
     "output_type": "stream",
     "text": [
      "/home/hd/anaconda2/lib/python2.7/site-packages/sklearn/utils/validation.py:420: DataConversionWarning: Data with input dtype int64 was converted to float64 by the scale function.\n",
      "  warnings.warn(msg, DataConversionWarning)\n"
     ]
    }
   ],
   "source": [
    "# Prepare and load the data for analysis\n",
    "mat = scipy.io.loadmat('2013MT60597.mat')\n",
    "raw_data = mat['data_image']\n",
    "target = mat['data_labels']\n",
    "\n",
    "data = scale(raw_data)\n",
    "true_labels = target.flatten()\n",
    "n_samples, n_features = data.shape\n",
    "n_digits = len(np.unique(target))\n",
    "# print(n_digits)\n"
   ]
  },
  {
   "cell_type": "code",
   "execution_count": 4,
   "metadata": {
    "collapsed": false
   },
   "outputs": [
    {
     "data": {
      "text/plain": [
       "array([6, 6, 6, ..., 3, 5, 2], dtype=int32)"
      ]
     },
     "execution_count": 4,
     "metadata": {},
     "output_type": "execute_result"
    }
   ],
   "source": [
    "# run K-Means clustering on \n",
    "model = KMeans(init='k-means++', n_clusters=n_digits, n_init=10);\n",
    "model.fit_predict(data)\n",
    "model_raw_data = KMeans(init='k-means++', n_clusters=n_digits, n_init=10)\n",
    "model_raw_data.fit_predict(raw_data)"
   ]
  },
  {
   "cell_type": "code",
   "execution_count": 5,
   "metadata": {
    "collapsed": false
   },
   "outputs": [],
   "source": [
    "def getPredictions(labels):\n",
    "    # store the cluster indexes assigned by the model in an array\n",
    "    result = labels\n",
    "    # build matrix whose ith row corresponds to ith cluster_index\n",
    "    # matrix[i][j] denotes no. of samples of true_label j assigned to cluster i\n",
    "    matrix = np.zeros((10,10))\n",
    "    for i in range(1,n_samples):\n",
    "        matrix[result[i]][true_labels[i]] += 1\n",
    "    # take argmax of each row to assign the label to that cluster\n",
    "    cluster_label = np.zeros(10)\n",
    "    for i in range(0,10):\n",
    "        cluster_label[i] = np.argmax(matrix[i,:])\n",
    "    # after assigning the cluster labels, get the label predicted by the model using the cluster index assigned      \n",
    "    predicted = np.zeros(n_samples)\n",
    "    for i in range(1,n_samples):\n",
    "        predicted[i] = cluster_label[result[i]]\n",
    "    return predicted, cluster_label"
   ]
  },
  {
   "cell_type": "code",
   "execution_count": 6,
   "metadata": {
    "collapsed": true
   },
   "outputs": [],
   "source": [
    "# get the no. of misclassified samples\n",
    "def getAccuray(true_labels,predicted_labels,samples):\n",
    "    accuracy = 0.0;\n",
    "    for i in range(1,samples):\n",
    "        if(true_labels[i] == predicted_labels[i]):\n",
    "            accuracy +=1\n",
    "    return accuracy/samples\n",
    "def getImage(x):\n",
    "    img =  Image.fromarray(255 - (x.reshape(28, 28)).astype('uint8'))\n",
    "    plt.imshow(img,cmap='Greys_r')\n",
    "    plt.show()\n",
    "    return img\n",
    "    "
   ]
  },
  {
   "cell_type": "code",
   "execution_count": 8,
   "metadata": {
    "collapsed": false
   },
   "outputs": [
    {
     "data": {
      "text/plain": [
       "0.586"
      ]
     },
     "execution_count": 8,
     "metadata": {},
     "output_type": "execute_result"
    }
   ],
   "source": [
    "predicted_scaled_data, cluster_label_scaled_data = getPredictions(model.labels_)\n",
    "predicted_raw_data, cluster_label_raw_data = getPredictions(model_raw_data.labels_)\n",
    "getAccuray(true_labels,predicted_raw_data,n_samples)   "
   ]
  },
  {
   "cell_type": "code",
   "execution_count": null,
   "metadata": {
    "collapsed": false
   },
   "outputs": [],
   "source": [
    "getImage(raw_data[765])\n",
    "\n",
    "\n",
    " "
   ]
  },
  {
   "cell_type": "code",
   "execution_count": null,
   "metadata": {
    "collapsed": false
   },
   "outputs": [],
   "source": [
    "U, s, V = np.linalg.svd(data)\n",
    "\n",
    "\n",
    "total_variance = sum(s)\n",
    "total_variance\n"
   ]
  },
  {
   "cell_type": "code",
   "execution_count": null,
   "metadata": {
    "collapsed": false
   },
   "outputs": [],
   "source": [
    "\n",
    "        "
   ]
  },
  {
   "cell_type": "code",
   "execution_count": 11,
   "metadata": {
    "collapsed": false
   },
   "outputs": [
    {
     "data": {
      "text/plain": [
       "PCA(copy=True, n_components=0.9, whiten=False)"
      ]
     },
     "execution_count": 11,
     "metadata": {},
     "output_type": "execute_result"
    }
   ],
   "source": [
    "pca = PCA(n_components=0.9)\n",
    "pca.fit(raw_data)\n"
   ]
  },
  {
   "cell_type": "code",
   "execution_count": 12,
   "metadata": {
    "collapsed": false
   },
   "outputs": [
    {
     "data": {
      "text/plain": [
       "0.90021308635218056"
      ]
     },
     "execution_count": 12,
     "metadata": {},
     "output_type": "execute_result"
    }
   ],
   "source": [
    "transformed_data = pca.transform(raw_data)\n",
    "sum(pca.explained_variance_ratio_)"
   ]
  },
  {
   "cell_type": "code",
   "execution_count": 9,
   "metadata": {
    "collapsed": false
   },
   "outputs": [],
   "source": [
    "\n",
    "def getResidualVariance():\n",
    "    variance_residual = np.zeros(pca.n_components_)\n",
    "    var_explained = pca.explained_variance_ratio_\n",
    "    temp = 0;\n",
    "    for i in range(0,pca.n_components_):\n",
    "        temp += var_explained[i]\n",
    "        variance_residual[i] = 1 -temp    \n",
    "    return variance_residual\n",
    "        \n",
    "\n",
    "\n"
   ]
  },
  {
   "cell_type": "code",
   "execution_count": 19,
   "metadata": {
    "collapsed": false
   },
   "outputs": [
    {
     "data": {
      "image/png": "[encoded data removed]",
      "text/plain": [
       "<matplotlib.figure.Figure at 0x7f69ce29f150>"
      ]
     },
     "metadata": {},
     "output_type": "display_data"
    }
   ],
   "source": [
    "residual_variance = getResidualVariance()\n",
    "X = np.linspace(0, pca.n_components_,pca.n_components_)\n",
    "plt.xlabel('No. of Principal Components Taken')\n",
    "plt.ylabel('Residual Variance')\n",
    "plt.title('Residual Variance Plot')\n",
    "# plt.xticks(np.linspace(0, pca.n_components_,1), X)\n",
    "plt.plot(X, residual_variance)\n",
    "plt.show()"
   ]
  },
  {
   "cell_type": "code",
   "execution_count": null,
   "metadata": {
    "collapsed": true
   },
   "outputs": [],
   "source": []
  }
 ],
 "metadata": {
  "kernelspec": {
   "display_name": "Python 2",
   "language": "python",
   "name": "python2"
  },
  "language_info": {
   "codemirror_mode": {
    "name": "ipython",
    "version": 2
   },
   "file_extension": ".py",
   "mimetype": "text/x-python",
   "name": "python",
   "nbconvert_exporter": "python",
   "pygments_lexer": "ipython2",
   "version": "2.7.11"
  }
 },
 "nbformat": 4,
 "nbformat_minor": 0
}
