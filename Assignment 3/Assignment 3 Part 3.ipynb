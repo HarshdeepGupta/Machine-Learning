{
 "cells": [
  {
   "cell_type": "code",
   "execution_count": 1,
   "metadata": {
    "collapsed": true
   },
   "outputs": [],
   "source": [
    "import csv as csv \n",
    "import numpy as np\n",
    "import pandas as pd\n",
    "import matplotlib.pyplot as plt\n",
    "from sklearn import preprocessing\n",
    "from sklearn import svm\n",
    "from scipy import linalg\n",
    "from sklearn import mixture\n",
    "from sklearn.decomposition import PCA\n",
    "from sklearn.preprocessing import scale"
   ]
  },
  {
   "cell_type": "code",
   "execution_count": 2,
   "metadata": {
    "collapsed": false
   },
   "outputs": [],
   "source": [
    "# Open up the csv file in to a Python object\n",
    "data = pd.read_csv('ass3_data.txt',header = -1,sep=' ')\n",
    "data = data.fillna(0)\n"
   ]
  },
  {
   "cell_type": "code",
   "execution_count": 3,
   "metadata": {
    "collapsed": false
   },
   "outputs": [],
   "source": [
    "\n",
    "\n",
    "s2 = linalg.svd(data, compute_uv=False)\n",
    "# print(s2)\n",
    "\n",
    "X = np.zeros(s2.size)\n",
    "for i in range(s2.size):\n",
    "    X[i] = i+1\n",
    "plt.plot(X,s2,'ro')\n",
    "plt.grid(True)\n",
    "plt.show()"
   ]
  },
  {
   "cell_type": "code",
   "execution_count": 3,
   "metadata": {
    "collapsed": false
   },
   "outputs": [
    {
     "name": "stdout",
     "output_type": "stream",
     "text": [
      "Running PCA\n",
      "32\n",
      "done\n"
     ]
    }
   ],
   "source": [
    "\n",
    "print(\"Running PCA\");\n",
    "#Run PCA to compress data\n",
    "pca = PCA(n_components=32)\n",
    "pca.fit(data)\n",
    "transformed_data = pca.transform(data)\n",
    "print(pca.n_components_)\n",
    "# print(\"Running GMM\");\n",
    "# gmm = mixture.GMM(n_components=clusters)\n",
    "# gmm.fit(transformed_data)\n",
    "# result = gmm.predict(transformed_data)\n",
    "# np.savetxt('sub.csv', result,newline=',')\n",
    "print(\"done\");"
   ]
  },
  {
   "cell_type": "code",
   "execution_count": 19,
   "metadata": {
    "collapsed": false
   },
   "outputs": [],
   "source": []
  },
  {
   "cell_type": "code",
   "execution_count": null,
   "metadata": {
    "collapsed": false
   },
   "outputs": [],
   "source": []
  },
  {
   "cell_type": "code",
   "execution_count": 4,
   "metadata": {
    "collapsed": false
   },
   "outputs": [
    {
     "name": "stdout",
     "output_type": "stream",
     "text": [
      "Running GMM\n",
      "done\n",
      "True\n"
     ]
    }
   ],
   "source": [
    "clusters = 14\n",
    "print(\"Running GMM\");\n",
    "gmm = mixture.GMM(n_components=clusters,covariance_type='full')\n",
    "gmm.fit(transformed_data)\n",
    "result = gmm.predict(transformed_data)\n",
    "\n",
    "np.savetxt('sub1.csv', result,newline=',')\n",
    "print(\"done\");\n",
    "print(gmm.converged_)\n"
   ]
  },
  {
   "cell_type": "code",
   "execution_count": 17,
   "metadata": {
    "collapsed": false
   },
   "outputs": [
    {
     "name": "stdout",
     "output_type": "stream",
     "text": [
      "done\n",
      "True\n"
     ]
    }
   ],
   "source": [
    "result /= 1\n",
    "np.savetxt('sub1.csv', result,newline=',')\n",
    "print(\"done\");\n",
    "print(gmm.converged_)"
   ]
  },
  {
   "cell_type": "markdown",
   "metadata": {},
   "source": [
    "# Experiment Log\n",
    "### Dimension = 10\n",
    "* Accuracy increases by increasing the cluster no from 10 to 12 but decreased for 15\n",
    "### Dimension = 55 (90 % variance)\n",
    "* c = 12 accuracy = 55 \n",
    "* c = 15 accuracy = 58\n",
    "* c = 18 accuracy = 58.9\n",
    "* c = 16 accuracy = 57\n",
    "* c = 21 accuracy = 58.2\n",
    "* c =  accuracy = 58\n",
    "### Dimension = 78 (95 % variance) Scaled data\n",
    "\n",
    "* c = 15 accuracy = 50\n",
    "## Scaling is not a good thing\n",
    "### Dimension = 78 (95 % variance) \n",
    " \n",
    "* c = 15 accuracy = 56.9\n",
    "### Dimension = 32 (80 % variance) \n",
    "\n",
    "* c = 15 accuracy = 56.9\n",
    "* c = 18 accuracy = 56.9\n",
    "### Dimension = 32 (80 % variance) cov = tied\n",
    "* c = 6 accuracy = \n",
    "* c = 12 accuracy = \n",
    "* c = 15 accuracy = 56.9\n",
    "* c = 18 accuracy = 56."
   ]
  }
 ],
 "metadata": {
  "kernelspec": {
   "display_name": "Python 2",
   "language": "python",
   "name": "python2"
  },
  "language_info": {
   "codemirror_mode": {
    "name": "ipython",
    "version": 2
   },
   "file_extension": ".py",
   "mimetype": "text/x-python",
   "name": "python",
   "nbconvert_exporter": "python",
   "pygments_lexer": "ipython2",
   "version": "2.7.11"
  }
 },
 "nbformat": 4,
 "nbformat_minor": 0
}
