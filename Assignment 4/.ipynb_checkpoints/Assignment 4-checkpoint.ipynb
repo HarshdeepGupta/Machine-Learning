{
 "cells": [
  {
   "cell_type": "code",
   "execution_count": 2,
   "metadata": {
    "collapsed": false
   },
   "outputs": [
    {
     "name": "stderr",
     "output_type": "stream",
     "text": [
      "Using Theano backend.\n"
     ]
    },
    {
     "name": "stdout",
     "output_type": "stream",
     "text": [
      "Couldn't import dot_parser, loading of dot files will not be possible.\n"
     ]
    }
   ],
   "source": [
    "# Do the imports, so that we write less code\n",
    "\n",
    "from sklearn.cross_validation import train_test_split\n",
    "import numpy as np\n",
    "import matplotlib.pyplot as plt\n",
    "from keras.models import Sequential\n",
    "from keras.layers.core import Dense, Dropout, Activation\n",
    "from keras.optimizers import SGD, Adam, RMSprop\n",
    "from keras.utils import np_utils\n",
    "from keras import backend as K\n",
    "from keras.callbacks import EarlyStopping\n",
    "\n",
    "import matplotlib.pyplot as plt\n",
    "import time\n",
    "from datetime import datetime\n",
    "from PIL import Image, ImageDraw\n",
    "\n",
    "# from keras.utils.visualize_util import plot\n",
    "# from IPython.display import SVG\n",
    "# from keras.utils.visualize_util import model_to_dot\n",
    "\n"
   ]
  },
  {
   "cell_type": "code",
   "execution_count": 1,
   "metadata": {
    "collapsed": false
   },
   "outputs": [
    {
     "ename": "NameError",
     "evalue": "name 'train_test_split' is not defined",
     "output_type": "error",
     "traceback": [
      "\u001b[1;31m---------------------------------------------------------------------------\u001b[0m",
      "\u001b[1;31mNameError\u001b[0m                                 Traceback (most recent call last)",
      "\u001b[1;32m<ipython-input-1-50e0fdd9f3f8>\u001b[0m in \u001b[0;36m<module>\u001b[1;34m()\u001b[0m\n\u001b[0;32m     11\u001b[0m \u001b[1;33m\u001b[0m\u001b[0m\n\u001b[0;32m     12\u001b[0m \u001b[1;33m\u001b[0m\u001b[0m\n\u001b[1;32m---> 13\u001b[1;33m \u001b[0mX_train\u001b[0m\u001b[1;33m,\u001b[0m \u001b[0mX_test\u001b[0m\u001b[1;33m,\u001b[0m \u001b[0mY_train\u001b[0m\u001b[1;33m,\u001b[0m \u001b[0my_test\u001b[0m \u001b[1;33m=\u001b[0m \u001b[0mtrain_test_split\u001b[0m\u001b[1;33m(\u001b[0m\u001b[0mtransformed_data\u001b[0m\u001b[1;33m,\u001b[0m \u001b[0mtarget\u001b[0m\u001b[1;33m,\u001b[0m \u001b[0mtest_size\u001b[0m\u001b[1;33m=\u001b[0m\u001b[1;36m0.10\u001b[0m\u001b[1;33m,\u001b[0m \u001b[0mrandom_state\u001b[0m\u001b[1;33m=\u001b[0m\u001b[1;36m42\u001b[0m\u001b[1;33m)\u001b[0m\u001b[1;33m\u001b[0m\u001b[0m\n\u001b[0m\u001b[0;32m     14\u001b[0m \u001b[1;33m\u001b[0m\u001b[0m\n\u001b[0;32m     15\u001b[0m \u001b[0mn_samples\u001b[0m\u001b[1;33m,\u001b[0m \u001b[0mn_features\u001b[0m \u001b[1;33m=\u001b[0m \u001b[0mX_train\u001b[0m\u001b[1;33m.\u001b[0m\u001b[0mshape\u001b[0m\u001b[1;33m\u001b[0m\u001b[0m\n",
      "\u001b[1;31mNameError\u001b[0m: name 'train_test_split' is not defined"
     ]
    }
   ],
   "source": [
    "# Prepare and load the data for analysis\n",
    "import scipy.io\n",
    "from sklearn.decomposition import PCA\n",
    "mat = scipy.io.loadmat('2013MT60597.mat')\n",
    "raw_data = mat['data_image']\n",
    "target = mat['data_labels']\n",
    "target = target.flatten()\n",
    "\n",
    "pca = PCA(n_components=0.9)\n",
    "transformed_data = pca.fit_transform(raw_data)\n",
    "\n",
    "\n",
    "X_train, X_test, Y_train, y_test = train_test_split(transformed_data, target, test_size=0.10, random_state=42)\n",
    "\n",
    "n_samples, n_features = X_train.shape\n",
    "n_classes = len(np.unique(target))\n",
    "\n",
    "Y_train = np_utils.to_categorical(Y_train, n_classes)\n",
    "Y_test = np_utils.to_categorical(y_test, n_classes)\n",
    "\n",
    "\n"
   ]
  },
  {
   "cell_type": "code",
   "execution_count": 82,
   "metadata": {
    "collapsed": false
   },
   "outputs": [
    {
     "data": {
      "image/png": "[encoded data removed]",
      "text/plain": [
       "<PIL.Image.Image image mode=L size=28x28 at 0x7F44B4FC7310>"
      ]
     },
     "execution_count": 82,
     "metadata": {},
     "output_type": "execute_result"
    }
   ],
   "source": [
    "# getImage(X_train[0])"
   ]
  },
  {
   "cell_type": "code",
   "execution_count": 3,
   "metadata": {
    "collapsed": true
   },
   "outputs": [],
   "source": [
    "\n",
    "\n",
    "#define the function for getting images\n",
    "def getImage(x):\n",
    "    img =  Image.fromarray(255 - (x.reshape(28, 28)).astype('uint8'))\n",
    "#     plt.imshow(img,cmap='Greys_r')\n",
    "#     plt.show()\n",
    "    return img"
   ]
  },
  {
   "cell_type": "code",
   "execution_count": 83,
   "metadata": {
    "collapsed": false
   },
   "outputs": [],
   "source": [
    "# SVG(model_to_dot(model).create(prog='dot', format='svg'))\n"
   ]
  },
  {
   "cell_type": "code",
   "execution_count": 7,
   "metadata": {
    "collapsed": false,
    "scrolled": true
   },
   "outputs": [
    {
     "name": "stdout",
     "output_type": "stream",
     "text": [
      "Training new model\n",
      "Iteration finished\n",
      "Training new model\n",
      "Iteration finished\n",
      "Training new model\n",
      "Iteration finished\n",
      "Training new model\n",
      "Iteration finished\n",
      "Training new model\n",
      "Iteration finished\n",
      "Training new model\n",
      "Iteration finished\n",
      "Training new model\n",
      "Iteration finished\n",
      "Training new model\n",
      "Iteration finished\n",
      "Training new model\n",
      "Iteration finished\n"
     ]
    }
   ],
   "source": [
    "\n",
    "epoch = 10\n",
    "train = []\n",
    "test = []\n",
    "time = []\n",
    "early_stopping = EarlyStopping(monitor='val_loss', patience=5, verbose=1, mode='auto')\n",
    "neurons = [25,50,100,150,200,300,400,500,600,700,800,1000]\n",
    "# lr = [0.0000001,0.000001,0.00001,0.0001,0.001,0.01,0.1,1,10]\n",
    "for i in range(len(neurons)):\n",
    "\n",
    "    model = Sequential()\n",
    "    #Add the first layer\n",
    "    model.add(Dense(neurons[i],input_dim=784))\n",
    "    model.add(Activation('sigmoid'))\n",
    "    #Add the second layer\n",
    "    model.add(Dense(10))\n",
    "    model.add(Activation(\"sigmoid\"))\n",
    "    #model.summary()\n",
    "   \n",
    "\n",
    "    model.compile(loss='categorical_crossentropy',\n",
    "                  optimizer=RMSprop(),\n",
    "                  metrics=['accuracy'])\n",
    "    model.optimizer.lr.set_value(lr[i])\n",
    "    \n",
    "    print(\"Training new model\")\n",
    "    a = datetime.now()\n",
    "    history = model.fit(X_train, Y_train,nb_epoch=epoch,verbose=0, callback=[early_stopping] validation_data=(X_test, Y_test))\n",
    "    b = datetime.now()\n",
    "    time.append((b-a).total_seconds())\n",
    "    train.append(history.history.get(\"acc\")[-1])\n",
    "    test.append(history.history.get(\"val_acc\")[-1])\n",
    "    print(\"Iteration finished\")\n",
    "\n"
   ]
  },
  {
   "cell_type": "code",
   "execution_count": 120,
   "metadata": {
    "collapsed": false
   },
   "outputs": [
    {
     "name": "stdout",
     "output_type": "stream",
     "text": [
      "200/200 [==============================] - 0s     \n"
     ]
    }
   ],
   "source": [
    "# predicted = model.predict_classes(X_test)"
   ]
  },
  {
   "cell_type": "code",
   "execution_count": 128,
   "metadata": {
    "collapsed": false
   },
   "outputs": [],
   "source": [
    "# for i in range(200):\n",
    "#     if predicted[i] != y_test[i]:\n",
    "#         img = getImage(X_test[i])\n",
    "# #         a = \"misclassified/\"\n",
    "#         a = str(predicted[i])\n",
    "#         a += \"Iter\"\n",
    "#         a += str(i)\n",
    "#         a += \".bmp\"\n",
    "#         img.save(a)\n",
    "        \n",
    "        "
   ]
  },
  {
   "cell_type": "code",
   "execution_count": 9,
   "metadata": {
    "collapsed": false
   },
   "outputs": [],
   "source": [
    "plt.figure()#figsize=(8, 6)\n",
    "\n",
    "plt.title('Accuracy vs hidden neurons')\n",
    "\n",
    "#plt.figure(figsize=(8, 6))\n",
    "#plt.subplots_adjust(left=0.05, right=0.95, bottom=0.15, top=0.95)\n",
    "#plt.imshow(accuracy, interpolation='nearest', cmap=plt.cm.spectral)\n",
    "plt.xlabel('Learning Rate')\n",
    "plt.ylabel('Accuracy ( in %)')\n",
    "plt.plot(train,'g-')\n",
    "plt.plot(test,'r-')\n",
    "plt.legend(['train accuracy','test accuracy'], loc='upper left')\n",
    "#plt.ylabel('some numbers')\n",
    "#plt.title('Cross validated Test error -' + kernel1)\n",
    "#plt.colorbar()\n",
    "#plt.yticks(np.arange(len(gamma1)), gamma1, rotation=45)\n",
    "plt.xticks(np.arange(len(neurons)), neurons)\n",
    "#plt.text(C1.index(max_index),1,max_acc)\n",
    "plt.savefig('mlp.png')\n",
    "plt.show()"
   ]
  },
  {
   "cell_type": "code",
   "execution_count": 11,
   "metadata": {
    "collapsed": false
   },
   "outputs": [],
   "source": [
    "plt.figure()#figsize=(8, 6)\n",
    "\n",
    "plt.title('Time vs hidden neurons')\n",
    "\n",
    "#plt.figure(figsize=(8, 6))\n",
    "#plt.subplots_adjust(left=0.05, right=0.95, bottom=0.15, top=0.95)\n",
    "#plt.imshow(accuracy, interpolation='nearest', cmap=plt.cm.spectral)\n",
    "plt.xlabel('Learning rate')\n",
    "plt.ylabel('Time (in sec)')\n",
    "plt.plot(time)\n",
    "#plt.ylabel('some numbers')\n",
    "#plt.title('Cross validated Test error -' + kernel1)\n",
    "#plt.colorbar()\n",
    "#plt.yticks(np.arange(len(gamma1)), gamma1, rotation=45)\n",
    "plt.xticks(np.arange(len(neurons)), neurons)\n",
    "#plt.text(C1.index(max_index),1,max_acc)\n",
    "plt.savefig('mlp_time.png')\n",
    "plt.show()\n"
   ]
  },
  {
   "cell_type": "code",
   "execution_count": null,
   "metadata": {
    "collapsed": true
   },
   "outputs": [],
   "source": [
    "\n"
   ]
  },
  {
   "cell_type": "code",
   "execution_count": null,
   "metadata": {
    "collapsed": true
   },
   "outputs": [],
   "source": []
  },
  {
   "cell_type": "code",
   "execution_count": null,
   "metadata": {
    "collapsed": true
   },
   "outputs": [],
   "source": []
  }
 ],
 "metadata": {
  "kernelspec": {
   "display_name": "Python 2",
   "language": "python",
   "name": "python2"
  },
  "language_info": {
   "codemirror_mode": {
    "name": "ipython",
    "version": 2
   },
   "file_extension": ".py",
   "mimetype": "text/x-python",
   "name": "python",
   "nbconvert_exporter": "python",
   "pygments_lexer": "ipython2",
   "version": "2.7.11"
  }
 },
 "nbformat": 4,
 "nbformat_minor": 0
}
